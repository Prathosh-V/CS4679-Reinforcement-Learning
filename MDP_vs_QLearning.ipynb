{
 "cells": [
  {
   "cell_type": "markdown",
   "id": "20de308b",
   "metadata": {},
   "source": [
    "### Setting up the environment"
   ]
  },
  {
   "cell_type": "code",
   "execution_count": 31,
   "id": "a51135f9",
   "metadata": {},
   "outputs": [
    {
     "name": "stdout",
     "output_type": "stream",
     "text": [
      "Grid Layout (1=Start, 2=Goal, -1=Obstacle):\n",
      "[[ 0.  0.  0.  0.  0.  0. -1.  0.  0.  0.]\n",
      " [ 0. -1.  0. -1.  0.  0.  0.  0.  0.  0.]\n",
      " [ 0.  0.  0.  0.  0. -1.  0.  0.  0. -1.]\n",
      " [-1.  0.  0.  0. -1.  0.  0.  0.  2. -1.]\n",
      " [-1.  0.  0.  0. -1.  0.  0.  0.  0.  0.]\n",
      " [ 0.  0. -1.  0.  0. -1.  1.  0. -1.  0.]\n",
      " [ 0.  0.  0.  0.  0.  0.  0. -1.  0.  0.]\n",
      " [-1. -1.  0.  0.  0.  0. -1.  0.  0.  0.]\n",
      " [-1.  0.  0.  0.  0.  0.  0.  0.  0. -1.]\n",
      " [ 0.  0. -1.  0.  0.  0.  0.  0.  0.  0.]]\n"
     ]
    }
   ],
   "source": [
    "import numpy as np\n",
    "import random\n",
    "import matplotlib.pyplot as plt\n",
    "\n",
    "# Define the grid environment\n",
    "grid_size = 10\n",
    "grid = np.zeros((grid_size, grid_size))\n",
    "\n",
    "# Define random start and goal points\n",
    "start = (random.randint(0, grid_size - 1), random.randint(0, grid_size - 1))\n",
    "goal = (random.randint(0, grid_size - 1), random.randint(0, grid_size - 1))\n",
    "while goal == start:\n",
    "    goal = (random.randint(0, grid_size - 1), random.randint(0, grid_size - 1))\n",
    "\n",
    "# Define random obstacles\n",
    "num_obstacles = 20  \n",
    "obstacles = set()\n",
    "while len(obstacles) < num_obstacles:\n",
    "    obstacle = (random.randint(0, grid_size - 1), random.randint(0, grid_size - 1))\n",
    "    if obstacle != start and obstacle != goal:\n",
    "        obstacles.add(obstacle)\n",
    "\n",
    "# Fill grid with obstacles (-1), start (1), and goal (2)\n",
    "for obs in obstacles:\n",
    "    grid[obs] = -1\n",
    "grid[start] = 1\n",
    "grid[goal] = 2\n",
    "\n",
    "print(\"Grid Layout (1=Start, 2=Goal, -1=Obstacle):\")\n",
    "print(grid)"
   ]
  },
  {
   "cell_type": "markdown",
   "id": "4750d36f",
   "metadata": {},
   "source": [
    "### MDP Approach"
   ]
  },
  {
   "cell_type": "code",
   "execution_count": 84,
   "id": "4589a199",
   "metadata": {},
   "outputs": [],
   "source": [
    "# Constants\n",
    "actions = ['up', 'down', 'left', 'right']\n",
    "gamma = 0.9  # Discount factor\n",
    "state = (0,0)\n",
    "\n",
    "# Initialize value and policy tables\n",
    "V = np.random.rand(grid_size, grid_size)  # Random values for each state\n",
    "policy = np.random.randint(0, 4, (grid_size, grid_size))  # Random actions (0 to 3 for four possible directions)\n",
    "\n",
    "# Define a function to take a step in the environment\n",
    "def step(state, action):\n",
    "    x, y = state\n",
    "    if action == 'up':\n",
    "        next_state = (max(0, x - 1), y)\n",
    "    elif action == 'down':\n",
    "        next_state = (min(grid_size - 1, x + 1), y)\n",
    "    elif action == 'left':\n",
    "        next_state = (x, max(0, y - 1))\n",
    "    elif action == 'right':\n",
    "        next_state = (x, min(grid_size - 1, y + 1))\n",
    "    \n",
    "    # Return the reward and check if next_state is an obstacle or goal\n",
    "    if next_state == goal:\n",
    "        return next_state, 10  # Goal reward\n",
    "    elif next_state in obstacles:\n",
    "        return next_state, -10  # Obstacle penalty\n",
    "    else:\n",
    "        return next_state, -1  # Step penalty\n",
    "\n",
    "# Value Iteration\n",
    "def value_iteration():\n",
    "    global V, policy,state\n",
    "    rewards=[]\n",
    "    while state!=goal:\n",
    "        delta = 0\n",
    "        # Evaluate actions\n",
    "        action_values = []\n",
    "        for i, action in enumerate(actions):\n",
    "            next_state, reward = step(state, action)\n",
    "            action_values.append(reward + gamma * V[next_state])\n",
    "\n",
    "        # Best action and its value\n",
    "        best_action_value = max(action_values)\n",
    "        best_action = np.argmax(action_values)\n",
    "\n",
    "        # Update the value and policy\n",
    "        delta = max(delta, abs(best_action_value - V[state]))\n",
    "        V[state] = best_action_value\n",
    "        policy[state] = best_action\n",
    "        state,reward=step(state,actions[best_action])\n",
    "        rewards.append(reward)\n",
    "    return rewards\n",
    "\n",
    "reward_mdp=value_iteration()"
   ]
  },
  {
   "cell_type": "markdown",
   "id": "e2ab069a",
   "metadata": {},
   "source": [
    "### Q Learning"
   ]
  },
  {
   "cell_type": "code",
   "execution_count": 17,
   "id": "ab645474",
   "metadata": {},
   "outputs": [],
   "source": [
    "import random\n",
    "\n",
    "# Q-learning parameters\n",
    "alpha = 0.1  # Learning rate\n",
    "epsilon = 0.1  # Exploration rate\n",
    "q_table = np.zeros((grid_size, grid_size, len(actions)))\n",
    "\n",
    "# Q-Learning function\n",
    "def q_learning(episodes=500):\n",
    "    global q_table\n",
    "    rewards=[]\n",
    "    for _ in range(episodes):\n",
    "        state = start\n",
    "        while state != goal:\n",
    "            # Choose action based on epsilon-greedy policy\n",
    "            if random.uniform(0, 1) < epsilon:\n",
    "                action_index = random.randint(0, len(actions) - 1)  # Explore\n",
    "            else:\n",
    "                action_index = np.argmax(q_table[state])  # Exploit\n",
    "            \n",
    "            # Take action and observe next state and reward\n",
    "            action = actions[action_index]\n",
    "            next_state, reward = step(state, action)\n",
    "            rewards.append(reward)\n",
    "            \n",
    "            # Update Q-value\n",
    "            best_next_action = np.argmax(q_table[next_state])\n",
    "            q_table[state][action_index] += alpha * (reward + gamma * q_table[next_state][best_next_action] - q_table[state][action_index])\n",
    "            \n",
    "            # Move to next state\n",
    "            state = next_state\n",
    "        return rewards\n",
    "reward_q=q_learning()\n"
   ]
  },
  {
   "cell_type": "markdown",
   "id": "f9f9935b",
   "metadata": {},
   "source": [
    "### Comparision of rewards over iterations"
   ]
  },
  {
   "cell_type": "code",
   "execution_count": 87,
   "id": "b2486ce6",
   "metadata": {},
   "outputs": [
    {
     "data": {
      "text/plain": [
       "[<matplotlib.lines.Line2D at 0x1e1839b7460>]"
      ]
     },
     "execution_count": 87,
     "metadata": {},
     "output_type": "execute_result"
    },
    {
     "data": {
      "image/png": "[encoded data removed]",
      "text/plain": [
       "<Figure size 864x576 with 1 Axes>"
      ]
     },
     "metadata": {
      "needs_background": "light"
     },
     "output_type": "display_data"
    }
   ],
   "source": [
    "import matplotlib.pyplot as plt\n",
    "plt.figure(figsize=(12,8))\n",
    "plt.plot(range(len(reward_q)),reward_q,c=\"r\")\n",
    "plt.plot(range(len(reward_mdp)),reward_mdp,c=\"b\")"
   ]
  },
  {
   "cell_type": "code",
   "execution_count": null,
   "id": "ed89e6a2",
   "metadata": {},
   "outputs": [],
   "source": []
  }
 ],
 "metadata": {
  "kernelspec": {
   "display_name": "Python 3 (ipykernel)",
   "language": "python",
   "name": "python3"
  },
  "language_info": {
   "codemirror_mode": {
    "name": "ipython",
    "version": 3
   },
   "file_extension": ".py",
   "mimetype": "text/x-python",
   "name": "python",
   "nbconvert_exporter": "python",
   "pygments_lexer": "ipython3",
   "version": "3.9.7"
  }
 },
 "nbformat": 4,
 "nbformat_minor": 5
}
